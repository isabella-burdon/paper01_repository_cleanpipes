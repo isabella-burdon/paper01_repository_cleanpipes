{
 "cells": [
  {
   "cell_type": "code",
   "execution_count": 2,
   "metadata": {},
   "outputs": [],
   "source": [
    "# dependancies\n",
    "import random\n",
    "from Bio import SeqIO\n",
    "import gzip\n",
    "import time"
   ]
  },
  {
   "cell_type": "markdown",
   "metadata": {},
   "source": [
    "### Subset the filtered Mock F - Long Reads"
   ]
  },
  {
   "cell_type": "code",
   "execution_count": 3,
   "metadata": {},
   "outputs": [],
   "source": [
    "path_in = '../../pipes/LRshotgun_pipeline/d_hqfiltered/mockF.fastq.gz'\n",
    "total_records = sum(1 for _ in SeqIO.parse(gzip.open(path_in, \"rt\"), \"fastq\"))"
   ]
  },
  {
   "cell_type": "code",
   "execution_count": 4,
   "metadata": {},
   "outputs": [
    {
     "data": {
      "text/plain": [
       "21543"
      ]
     },
     "execution_count": 4,
     "metadata": {},
     "output_type": "execute_result"
    }
   ],
   "source": [
    "total_records"
   ]
  },
  {
   "cell_type": "code",
   "execution_count": 5,
   "metadata": {},
   "outputs": [
    {
     "name": "stdout",
     "output_type": "stream",
     "text": [
      "2e4 file written in 16.74 seconds\n",
      "1.5e4 file written in 13.21 seconds\n",
      "1e4 file written in 9.16 seconds\n",
      "7.5e3 file written in 6.95 seconds\n",
      "5e3 file written in 5.06 seconds\n",
      "2.5e3 file written in 2.96 seconds\n",
      "1e3 file written in 1.74 seconds\n",
      "750 file written in 1.56 seconds\n",
      "500 file written in 1.36 seconds\n",
      "100 file written in 1.01 seconds\n"
     ]
    }
   ],
   "source": [
    "subset_list = [2e4, 1.5e4, 1e4, 7.5e3, 5e3, 2.5e3, 1e3, 750, 500, 100]\n",
    "subset_list_strings = ['2e4', '1.5e4', '1e4', '7.5e3', '5e3', '2.5e3', '1e3', '750', '500', '100']\n",
    "\n",
    "for i, value in enumerate(subset_list):\n",
    "    \n",
    "    start_time = time.time()\n",
    "\n",
    "    path_out = f'LR_shotgun_subsets/LR_mockF_subset_{subset_list_strings[i]}.fastq.gz'\n",
    "    handle_in = gzip.open(path_in, \"rt\")\n",
    "    handle_out = gzip.open(path_out, \"wt\")\n",
    "\n",
    "    selected_indices = random.sample(range(0, total_records), int(value))\n",
    "\n",
    "    with gzip.open(path_in, \"rt\") as handle_in, gzip.open(path_out, \"wt\") as handle_out:\n",
    "        for j, record in enumerate(SeqIO.parse(handle_in, \"fastq\")):\n",
    "            if j in selected_indices:\n",
    "                SeqIO.write(record, handle_out, \"fastq\")\n",
    "    \n",
    "    end_time = time.time()\n",
    "    print(f'{subset_list_strings[i]} file written in {(end_time - start_time):.2f} seconds')"
   ]
  },
  {
   "cell_type": "markdown",
   "metadata": {},
   "source": [
    "### Subset the filtered Mock F - Short Reads"
   ]
  },
  {
   "cell_type": "code",
   "execution_count": 21,
   "metadata": {},
   "outputs": [],
   "source": [
    "path_in = '../../pipes/SRshotgun_pipeline/d_hqfiltered/mockF.fastq.gz'\n",
    "total_records = sum(1 for _ in SeqIO.parse(gzip.open(path_in, \"rt\"), \"fastq\"))"
   ]
  },
  {
   "cell_type": "code",
   "execution_count": 22,
   "metadata": {},
   "outputs": [
    {
     "data": {
      "text/plain": [
       "39510504"
      ]
     },
     "execution_count": 22,
     "metadata": {},
     "output_type": "execute_result"
    }
   ],
   "source": [
    "total_records"
   ]
  },
  {
   "cell_type": "code",
   "execution_count": 23,
   "metadata": {},
   "outputs": [],
   "source": [
    "# too computationally time consuming to generate subsets of SR data\n",
    "# instead will half the data until size of 1e6 reads, then subset"
   ]
  },
  {
   "cell_type": "code",
   "execution_count": 24,
   "metadata": {},
   "outputs": [],
   "source": [
    "# use seqio to onlly write half the file\n",
    "pathin = 'SR_shotgun_subsets/SR_mockF_subset_full_3.9e7.fastq.gz'\n",
    "path_out = 'SR_shotgun_subsets/SR_mockF_subset_2e7.fastq.gz'\n",
    "handle_in = gzip.open(path_in, \"rt\")\n",
    "handle_out = gzip.open(path_out, \"wt\")\n",
    "\n",
    "with gzip.open(path_in, \"rt\") as handle_in, gzip.open(path_out, \"wt\") as handle_out:\n",
    "    record_count = 0\n",
    "    for record in SeqIO.parse(handle_in, \"fastq\"):\n",
    "        SeqIO.write(record, handle_out, \"fastq\")\n",
    "        record_count += 1\n",
    "        if record_count ==2e7:  \n",
    "            break"
   ]
  },
  {
   "cell_type": "code",
   "execution_count": 25,
   "metadata": {},
   "outputs": [],
   "source": [
    "pathin = 'SR_shotgun_subsets/SR_mockF_subset_2e7.fastq.gz'\n",
    "path_out = 'SR_shotgun_subsets/SR_mockF_subset_1e7.fastq.gz'\n",
    "handle_in = gzip.open(path_in, \"rt\")\n",
    "handle_out = gzip.open(path_out, \"wt\")\n",
    "\n",
    "with gzip.open(path_in, \"rt\") as handle_in, gzip.open(path_out, \"wt\") as handle_out:\n",
    "    record_count = 0\n",
    "    for record in SeqIO.parse(handle_in, \"fastq\"):\n",
    "        SeqIO.write(record, handle_out, \"fastq\")\n",
    "        record_count += 1\n",
    "        if record_count ==1e7:  \n",
    "            break"
   ]
  },
  {
   "cell_type": "code",
   "execution_count": 26,
   "metadata": {},
   "outputs": [],
   "source": [
    "pathin = 'SR_shotgun_subsets/SR_mockF_subset_1e7.fastq.gz'\n",
    "path_out = 'SR_shotgun_subsets/SR_mockF_subset_5e6.fastq.gz'\n",
    "handle_in = gzip.open(path_in, \"rt\")\n",
    "handle_out = gzip.open(path_out, \"wt\")\n",
    "\n",
    "with gzip.open(path_in, \"rt\") as handle_in, gzip.open(path_out, \"wt\") as handle_out:\n",
    "    record_count = 0\n",
    "    for record in SeqIO.parse(handle_in, \"fastq\"):\n",
    "        SeqIO.write(record, handle_out, \"fastq\")\n",
    "        record_count += 1\n",
    "        if record_count ==5e6:  \n",
    "            break"
   ]
  },
  {
   "cell_type": "code",
   "execution_count": 27,
   "metadata": {},
   "outputs": [],
   "source": [
    "pathin = 'SR_shotgun_subsets/SR_mockF_subset_5e6.fastq.gz'\n",
    "path_out = 'SR_shotgun_subsets/SR_mockF_subset_1e6.fastq.gz'\n",
    "handle_in = gzip.open(path_in, \"rt\")\n",
    "handle_out = gzip.open(path_out, \"wt\")\n",
    "\n",
    "with gzip.open(path_in, \"rt\") as handle_in, gzip.open(path_out, \"wt\") as handle_out:\n",
    "    record_count = 0\n",
    "    for record in SeqIO.parse(handle_in, \"fastq\"):\n",
    "        SeqIO.write(record, handle_out, \"fastq\")\n",
    "        record_count += 1\n",
    "        if record_count ==1e6:  \n",
    "            break"
   ]
  },
  {
   "cell_type": "code",
   "execution_count": 50,
   "metadata": {},
   "outputs": [
    {
     "name": "stdout",
     "output_type": "stream",
     "text": [
      "1000000\n",
      "subset size: 1000.0\n",
      "10 examples of indices selected: \n",
      "    [327396, 371047, 85952, 876676, 354451, 200396, 967319, 39424, 207765, 688885]\n",
      "1e3 file written in 0.21 minutes\n",
      "subset size: 10000.0\n",
      "10 examples of indices selected: \n",
      "    [903836, 34596, 145665, 914995, 26328, 90440, 623953, 629195, 264898, 639351]\n",
      "1e4 file written in 1.05 minutes\n",
      "subset size: 50000.0\n",
      "10 examples of indices selected: \n",
      "    [490127, 74182, 213927, 258368, 940513, 488838, 742878, 832642, 341575, 685285]\n",
      "5e4 file written in 4.77 minutes\n",
      "subset size: 100000.0\n",
      "10 examples of indices selected: \n",
      "    [436993, 945012, 503808, 134837, 213007, 48722, 955505, 833318, 309394, 388960]\n",
      "1e5 file written in 16.01 minutes\n",
      "subset size: 500000.0\n",
      "10 examples of indices selected: \n",
      "    [532936, 904747, 442116, 869227, 876407, 801135, 486638, 240701, 693735, 478835]\n",
      "5e5 file written in 89.14 minutes\n"
     ]
    }
   ],
   "source": [
    "subset_list = [1e3, 1e4, 5e4, 1e5, 5e5]\n",
    "subset_list_strings = ['1e3', '1e4', '5e4', '1e5', '5e5']\n",
    "path_in = 'SR_shotgun_subsets/SR_mockF_subset_1e6.fastq.gz'\n",
    "total_records = sum(1 for _ in SeqIO.parse(gzip.open(path_in, \"rt\"), \"fastq\"))\n",
    "print(total_records)\n",
    "    \n",
    "for i, value in enumerate(subset_list):\n",
    "    \n",
    "    start_time = time.time()\n",
    "\n",
    "    # define\n",
    "    path_out = f'SR_shotgun_subsets/SR_mockF_subset_{subset_list_strings[i]}.fastq.gz'\n",
    "    handle_in = gzip.open(path_in, \"rt\")\n",
    "    handle_out = gzip.open(path_out, \"wt\")\n",
    "    selected_indices = random.sample(range(0, total_records), int(value))\n",
    "\n",
    "    # check\n",
    "    print(f'subset size: {value}')\n",
    "    print(f'''10 examples of indices selected: \n",
    "    {selected_indices[:10]}''')\n",
    "\n",
    "    # loop\n",
    "    with gzip.open(path_in, \"rt\") as handle_in, gzip.open(path_out, \"wt\") as handle_out:\n",
    "        for j, record in enumerate(SeqIO.parse(handle_in, \"fastq\")):\n",
    "            if j in selected_indices:\n",
    "                SeqIO.write(record, handle_out, \"fastq\")\n",
    "    handle_out.close()\n",
    "    \n",
    "    # time and check\n",
    "    end_time = time.time()\n",
    "    print(f'{subset_list_strings[i]} file written in {(end_time - start_time)/60:.2f} minutes')"
   ]
  },
  {
   "cell_type": "markdown",
   "metadata": {},
   "source": [
    "### Check that number of reads is correct"
   ]
  },
  {
   "cell_type": "code",
   "execution_count": 30,
   "metadata": {},
   "outputs": [],
   "source": [
    "import os"
   ]
  },
  {
   "cell_type": "code",
   "execution_count": 44,
   "metadata": {},
   "outputs": [
    {
     "name": "stdout",
     "output_type": "stream",
     "text": [
      "LR_mockF_subset_1.5e4: 15000\n",
      "LR_mockF_subset_500: 500\n",
      "LR_mockF_subset_5e3: 5000\n",
      "LR_mockF_subset_2e4: 20000\n",
      "LR_mockF_subset_5e4: 50000\n",
      "LR_mockF_subset_5e5: 500000\n",
      "LR_mockF_subset_7.5e3: 7500\n",
      "LR_mockF_subset_750: 750\n",
      "LR_mockF_subset_2.5e3: 2500\n",
      "LR_mockF_subset_100: 100\n",
      "LR_mockF_subset_1e3: 1000\n",
      "LR_mockF_subset_1e5: 100000\n",
      "LR_mockF_subset_1e4: 10000\n"
     ]
    }
   ],
   "source": [
    "# list the paths in the directory\n",
    "path = 'LR_shotgun_subsets/'\n",
    "files = os.listdir(path)\n",
    "extension = '.fastq.gz'\n",
    "samples = [file[:-len(extension)] for file in files]\n",
    "# store sample / record count in a dictionary\n",
    "LR_subset_count = {}\n",
    "\n",
    "# print the number of records in each file\n",
    "for idx, files in enumerate(files):\n",
    "    handle_in = gzip.open(path + files, \"rt\")\n",
    "    total_records = sum(1 for _ in SeqIO.parse(handle_in, \"fastq\"))\n",
    "    print(f'{samples[idx]}: {total_records}')\n",
    "    LR_subset_count[samples[idx]] = total_records\n"
   ]
  },
  {
   "cell_type": "code",
   "execution_count": 43,
   "metadata": {},
   "outputs": [
    {
     "data": {
      "text/plain": [
       "15000"
      ]
     },
     "execution_count": 43,
     "metadata": {},
     "output_type": "execute_result"
    }
   ],
   "source": [
    "LR_subset_count['LR_mockF_subset_1.5e4']"
   ]
  },
  {
   "cell_type": "code",
   "execution_count": 51,
   "metadata": {},
   "outputs": [
    {
     "name": "stdout",
     "output_type": "stream",
     "text": [
      "SR_mockF_subset_2e7: 20000000\n",
      "SR_mockF_subset_full_3.9e7: 39510504\n",
      "SR_mockF_subset_1e3: 1000\n",
      "SR_mockF_subset_1e5: 100000\n",
      "SR_mockF_subset_1e4: 10000\n",
      "SR_mockF_subset_5e6: 5000000\n",
      "SR_mockF_subset_5e4: 50000\n",
      "SR_mockF_subset_5e5: 500000\n",
      "SR_mockF_subset_1e6: 1000000\n",
      "SR_mockF_subset_1e7: 10000000\n"
     ]
    }
   ],
   "source": [
    "# list the paths in the directory\n",
    "path = 'SR_shotgun_subsets/'\n",
    "files = os.listdir(path)\n",
    "extension = '.fastq.gz'\n",
    "samples = [file[:-len(extension)] for file in files]\n",
    "\n",
    "# print the number of records in each file\n",
    "for idx, files in enumerate(files):\n",
    "    handle_in = gzip.open(path + files, \"rt\")\n",
    "    total_records = sum(1 for _ in SeqIO.parse(handle_in, \"fastq\"))\n",
    "    print(f'{samples[idx]}: {total_records}')"
   ]
  }
 ],
 "metadata": {
  "kernelspec": {
   "display_name": "Python 3",
   "language": "python",
   "name": "python3"
  },
  "language_info": {
   "codemirror_mode": {
    "name": "ipython",
    "version": 3
   },
   "file_extension": ".py",
   "mimetype": "text/x-python",
   "name": "python",
   "nbconvert_exporter": "python",
   "pygments_lexer": "ipython3",
   "version": "3.12.0"
  }
 },
 "nbformat": 4,
 "nbformat_minor": 2
}
