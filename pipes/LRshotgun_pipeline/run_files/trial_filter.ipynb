{
 "cells": [
  {
   "cell_type": "code",
   "execution_count": 1,
   "metadata": {},
   "outputs": [],
   "source": [
    "# import dependancies\n",
    "import os\n",
    "import numpy as np\n",
    "import matplotlib.pyplot as plt\n",
    "import string"
   ]
  },
  {
   "cell_type": "code",
   "execution_count": 5,
   "metadata": {},
   "outputs": [],
   "source": [
    "# define functions\n",
    "def readFastq(filename):\n",
    "    sequences = []\n",
    "    qualities = []\n",
    "    with open(filename) as fh:\n",
    "        while True:\n",
    "            fh.readline() # skip name line  **** RAISES ERROR\n",
    "            seq = fh.readline().rstrip() # read base sequence, rstrip() removes the trailing newline character\n",
    "            fh.readline() # skip placeholder line\n",
    "            qual = fh.readline().rstrip() # base quality line\n",
    "            if len(seq) == 0:\n",
    "                break # break out of the loop if we are at the end of the file (number of lines left == 0)\n",
    "            sequences.append(seq)\n",
    "            qualities.append(qual)\n",
    "    return sequences, qualities\n",
    "\n",
    "def p33toQ(qual):\n",
    "    return ord(qual) - 33\n",
    "\n",
    "def findAverageQuality(qualities):\n",
    "    avgQuals = []\n",
    "    for qual in qualities:\n",
    "        avgQuals.append(sum([p33toQ(x) for x in qual]) / len(qual))\n",
    "    return avgQuals\n",
    "\n",
    "def deplete_lowQualReads(lowQual_indices, input_file, output_file):\n",
    "    with open(input_file, 'r') as fh_in, open(output_file, 'w') as fh_out:\n",
    "        # Read all lines from the input file\n",
    "        all_lines = fh_in.readlines()\n",
    "\n",
    "        # Calculate the line numbers to exclude based on lowQual_indices\n",
    "        excluded_line_numbers = [index * 4 + offset for index in lowQual_indices for offset in range(4)]\n",
    "\n",
    "        # Write all lines to the output file except those that are in the excluded_line_numbers\n",
    "        for line_number, line in enumerate(all_lines):\n",
    "            if line_number not in excluded_line_numbers:\n",
    "                fh_out.write(line)"
   ]
  },
  {
   "cell_type": "code",
   "execution_count": 11,
   "metadata": {},
   "outputs": [
    {
     "data": {
      "text/plain": [
       "['../c_readsChopped/mockA.fastq.gz',\n",
       " '../c_readsChopped/mockB.fastq.gz',\n",
       " '../c_readsChopped/mockC.fastq.gz',\n",
       " '../c_readsChopped/mockD.fastq.gz',\n",
       " '../c_readsChopped/mockE.fastq.gz',\n",
       " '../c_readsChopped/mockF.fastq.gz']"
      ]
     },
     "execution_count": 11,
     "metadata": {},
     "output_type": "execute_result"
    }
   ],
   "source": [
    "# get data paths\n",
    "directory_path = '../c_readsChopped'\n",
    "output_path = '../d_hqfiltered'\n",
    "samples = sorted([name for name in os.listdir(directory_path) if not name.startswith('.')])\n",
    "# sort\n",
    "# samples = sorted(samples)\n",
    "sample_paths = [os.path.join(directory_path, x) for x in samples]\n",
    "sample_paths"
   ]
  },
  {
   "cell_type": "code",
   "execution_count": 9,
   "metadata": {},
   "outputs": [],
   "source": [
    "# process\n",
    "for sample in sample_paths:\n",
    "    \n",
    "    sample_name = os.path.basename(sample)\n",
    "\n",
    "    seqs, quals = readFastq(sample) # raising error\n",
    "    avgQuals = findAverageQuality(quals)\n",
    "\n",
    "    lowQual_indices = []\n",
    "    \n",
    "    for i, read_qual in enumerate(avgQuals):\n",
    "        if read_qual < 20:\n",
    "            lowQual_indices.append(i)\n",
    "\n",
    "    deplete_lowQualReads(lowQual_indices, sample, os.path.join(output_path, sample_name))"
   ]
  }
 ],
 "metadata": {
  "kernelspec": {
   "display_name": "Python 3",
   "language": "python",
   "name": "python3"
  },
  "language_info": {
   "codemirror_mode": {
    "name": "ipython",
    "version": 3
   },
   "file_extension": ".py",
   "mimetype": "text/x-python",
   "name": "python",
   "nbconvert_exporter": "python",
   "pygments_lexer": "ipython3",
   "version": "3.11.3"
  }
 },
 "nbformat": 4,
 "nbformat_minor": 2
}
